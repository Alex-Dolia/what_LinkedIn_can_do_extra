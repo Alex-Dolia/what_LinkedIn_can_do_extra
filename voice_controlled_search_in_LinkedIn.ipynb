{
 "cells": [
  {
   "cell_type": "code",
   "execution_count": null,
   "id": "9bde6ebd",
   "metadata": {},
   "outputs": [],
   "source": [
    "# Alex Dolia, 06/02/2024"
   ]
  },
  {
   "cell_type": "code",
   "execution_count": 16,
   "id": "2af82605",
   "metadata": {},
   "outputs": [
    {
     "name": "stdout",
     "output_type": "stream",
     "text": [
      "Requirement already satisfied: playsound==1.2.2 in c:\\users\\adolia\\anaconda3\\lib\\site-packages (1.2.2)\n",
      "Requirement already satisfied: SpeechRecognition in c:\\users\\adolia\\anaconda3\\lib\\site-packages (3.10.1)\n",
      "Requirement already satisfied: requests>=2.26.0 in c:\\users\\adolia\\anaconda3\\lib\\site-packages (from SpeechRecognition) (2.28.1)\n",
      "Requirement already satisfied: typing-extensions in c:\\users\\adolia\\anaconda3\\lib\\site-packages (from SpeechRecognition) (4.3.0)\n",
      "Requirement already satisfied: charset-normalizer<3,>=2 in c:\\users\\adolia\\anaconda3\\lib\\site-packages (from requests>=2.26.0->SpeechRecognition) (2.0.4)\n",
      "Requirement already satisfied: idna<4,>=2.5 in c:\\users\\adolia\\anaconda3\\lib\\site-packages (from requests>=2.26.0->SpeechRecognition) (3.3)\n",
      "Requirement already satisfied: urllib3<1.27,>=1.21.1 in c:\\users\\adolia\\anaconda3\\lib\\site-packages (from requests>=2.26.0->SpeechRecognition) (1.26.11)\n",
      "Requirement already satisfied: certifi>=2017.4.17 in c:\\users\\adolia\\anaconda3\\lib\\site-packages (from requests>=2.26.0->SpeechRecognition) (2022.9.14)\n",
      "Requirement already satisfied: pipwin in c:\\users\\adolia\\anaconda3\\lib\\site-packages (0.5.2)\n",
      "Requirement already satisfied: docopt in c:\\users\\adolia\\anaconda3\\lib\\site-packages (from pipwin) (0.6.2)\n",
      "Requirement already satisfied: requests in c:\\users\\adolia\\anaconda3\\lib\\site-packages (from pipwin) (2.28.1)\n",
      "Requirement already satisfied: pyprind in c:\\users\\adolia\\anaconda3\\lib\\site-packages (from pipwin) (2.11.3)\n",
      "Requirement already satisfied: six in c:\\users\\adolia\\anaconda3\\lib\\site-packages (from pipwin) (1.16.0)\n",
      "Requirement already satisfied: beautifulsoup4>=4.9.0 in c:\\users\\adolia\\anaconda3\\lib\\site-packages (from pipwin) (4.11.1)\n",
      "Requirement already satisfied: js2py in c:\\users\\adolia\\anaconda3\\lib\\site-packages (from pipwin) (0.74)\n",
      "Requirement already satisfied: packaging in c:\\users\\adolia\\anaconda3\\lib\\site-packages (from pipwin) (21.3)\n",
      "Requirement already satisfied: pySmartDL>=1.3.1 in c:\\users\\adolia\\anaconda3\\lib\\site-packages (from pipwin) (1.3.4)\n",
      "Requirement already satisfied: soupsieve>1.2 in c:\\users\\adolia\\anaconda3\\lib\\site-packages (from beautifulsoup4>=4.9.0->pipwin) (2.3.1)\n",
      "Requirement already satisfied: tzlocal>=1.2 in c:\\users\\adolia\\anaconda3\\lib\\site-packages (from js2py->pipwin) (5.2)\n",
      "Requirement already satisfied: pyjsparser>=2.5.1 in c:\\users\\adolia\\anaconda3\\lib\\site-packages (from js2py->pipwin) (2.7.1)\n",
      "Requirement already satisfied: pyparsing!=3.0.5,>=2.0.2 in c:\\users\\adolia\\anaconda3\\lib\\site-packages (from packaging->pipwin) (3.0.9)\n",
      "Requirement already satisfied: charset-normalizer<3,>=2 in c:\\users\\adolia\\anaconda3\\lib\\site-packages (from requests->pipwin) (2.0.4)\n",
      "Requirement already satisfied: idna<4,>=2.5 in c:\\users\\adolia\\anaconda3\\lib\\site-packages (from requests->pipwin) (3.3)\n",
      "Requirement already satisfied: urllib3<1.27,>=1.21.1 in c:\\users\\adolia\\anaconda3\\lib\\site-packages (from requests->pipwin) (1.26.11)\n",
      "Requirement already satisfied: certifi>=2017.4.17 in c:\\users\\adolia\\anaconda3\\lib\\site-packages (from requests->pipwin) (2022.9.14)\n",
      "Requirement already satisfied: tzdata in c:\\users\\adolia\\anaconda3\\lib\\site-packages (from tzlocal>=1.2->js2py->pipwin) (2023.4)\n",
      "Package `pyaudio` found in cache\n",
      "Downloading package . . .\n",
      "https://download.lfd.uci.edu/pythonlibs/archived/PyAudio-0.2.11-cp39-cp39-win_amd64.whl\n",
      "PyAudio-0.2.11-cp39-cp39-win_amd64.whl\n",
      "[*] 0 bytes / 111 kB @ 0 bytes/s [------------------] [0.0%, 0s left]   [*] 0 bytes / 111 kB @ 0 bytes/s [------------------] [0.0%, 0s left]   [*] 0 bytes / 111 kB @ 0 bytes/s [------------------] [0.0%, 0s left]   [*] 0 bytes / 111 kB @ 0 bytes/s [------------------] [0.0%, 0s left]   [*] 0 bytes / 111 kB @ 0 bytes/s [------------------] [0.0%, 0s left]   [*] 0 bytes / 111 kB @ 0 bytes/s [------------------] [0.0%, 0s left]   [*] 0 bytes / 111 kB @ 0 bytes/s [------------------] [0.0%, 0s left]   [*] 0 bytes / 111 kB @ 0 bytes/s [------------------] [0.0%, 0s left]   [*] 0 bytes / 111 kB @ 0 bytes/s [------------------] [0.0%, 0s left]   [*] 0 bytes / 111 kB @ 0 bytes/s [------------------] [0.0%, 0s left]   [*] 8 kB / 111 kB @ 7 kB/s [#-----------------] [7.2%, 0s left]   [*] 8 kB / 111 kB @ 7 kB/s [#-----------------] [7.2%, 0s left]   [*] 24 kB / 111 kB @ 18 kB/s [###---------------] [21.6%, 0s left]  [*] 24 kB / 111 kB @ 17 kB/s [###---------------] [21.6%, 0s left]  [*] 72 kB / 111 kB @ 48 kB/s [###########-------] [64.8%, 0s left]  [*] 72 kB / 111 kB @ 45 kB/s [###########-------] [64.8%, 0s left]  Processing c:\\users\\adolia\\pipwin\\pyaudio-0.2.11-cp39-cp39-win_amd64.whl\n",
      "PyAudio is already installed with the same version as the provided wheel. Use --force-reinstall to force an installation of the wheel.\n",
      "[*] 111 kB / 111 kB @ 45 kB/s [##################] [100%, 0s left]    \n",
      "Requirement already satisfied: gtts==2.5.0 in c:\\users\\adolia\\anaconda3\\lib\\site-packages (2.5.0)\n",
      "Requirement already satisfied: requests<3,>=2.27 in c:\\users\\adolia\\anaconda3\\lib\\site-packages (from gtts==2.5.0) (2.28.1)\n",
      "Requirement already satisfied: click<8.2,>=7.1 in c:\\users\\adolia\\appdata\\roaming\\python\\python39\\site-packages (from gtts==2.5.0) (8.1.5)\n",
      "Requirement already satisfied: colorama in c:\\users\\adolia\\anaconda3\\lib\\site-packages (from click<8.2,>=7.1->gtts==2.5.0) (0.4.5)\n",
      "Requirement already satisfied: charset-normalizer<3,>=2 in c:\\users\\adolia\\anaconda3\\lib\\site-packages (from requests<3,>=2.27->gtts==2.5.0) (2.0.4)\n",
      "Requirement already satisfied: idna<4,>=2.5 in c:\\users\\adolia\\anaconda3\\lib\\site-packages (from requests<3,>=2.27->gtts==2.5.0) (3.3)\n",
      "Requirement already satisfied: urllib3<1.27,>=1.21.1 in c:\\users\\adolia\\anaconda3\\lib\\site-packages (from requests<3,>=2.27->gtts==2.5.0) (1.26.11)\n",
      "Requirement already satisfied: certifi>=2017.4.17 in c:\\users\\adolia\\anaconda3\\lib\\site-packages (from requests<3,>=2.27->gtts==2.5.0) (2022.9.14)\n"
     ]
    }
   ],
   "source": [
    "!pip install playsound==1.2.2\n",
    "!pip install SpeechRecognition\n",
    "!pip install pipwin\n",
    "!pipwin install pyaudio\n",
    "!pip install gtts==2.5.0"
   ]
  },
  {
   "cell_type": "code",
   "execution_count": null,
   "id": "9ecbcaf7",
   "metadata": {},
   "outputs": [],
   "source": [
    "import os\n",
    "import time\n",
    "import playsound                # pip install playsound==1.2.2\n",
    "import speech_recognition as sr # speech_recognition.__version__ = '3.10.1'\n",
    "from gtts import gTTS           # gtts.__version__ = '2.5.0'\n",
    "from datetime import datetime"
   ]
  },
  {
   "cell_type": "code",
   "execution_count": 17,
   "id": "465bf69c",
   "metadata": {},
   "outputs": [
    {
     "name": "stdout",
     "output_type": "stream",
     "text": [
      "Requirement already satisfied: selenium==4.9.0 in c:\\users\\adolia\\anaconda3\\lib\\site-packages (4.9.0)\n",
      "Requirement already satisfied: urllib3~=1.26 in c:\\users\\adolia\\anaconda3\\lib\\site-packages (from urllib3[socks]~=1.26->selenium==4.9.0) (1.26.11)\n",
      "Requirement already satisfied: trio~=0.17 in c:\\users\\adolia\\anaconda3\\lib\\site-packages (from selenium==4.9.0) (0.23.2)\n",
      "Requirement already satisfied: trio-websocket~=0.9 in c:\\users\\adolia\\anaconda3\\lib\\site-packages (from selenium==4.9.0) (0.11.1)\n",
      "Requirement already satisfied: certifi>=2021.10.8 in c:\\users\\adolia\\anaconda3\\lib\\site-packages (from selenium==4.9.0) (2022.9.14)\n",
      "Requirement already satisfied: attrs>=20.1.0 in c:\\users\\adolia\\anaconda3\\lib\\site-packages (from trio~=0.17->selenium==4.9.0) (21.4.0)\n",
      "Requirement already satisfied: sortedcontainers in c:\\users\\adolia\\anaconda3\\lib\\site-packages (from trio~=0.17->selenium==4.9.0) (2.4.0)\n",
      "Requirement already satisfied: idna in c:\\users\\adolia\\anaconda3\\lib\\site-packages (from trio~=0.17->selenium==4.9.0) (3.3)\n",
      "Requirement already satisfied: outcome in c:\\users\\adolia\\anaconda3\\lib\\site-packages (from trio~=0.17->selenium==4.9.0) (1.3.0.post0)\n",
      "Requirement already satisfied: sniffio>=1.3.0 in c:\\users\\adolia\\anaconda3\\lib\\site-packages (from trio~=0.17->selenium==4.9.0) (1.3.0)\n",
      "Requirement already satisfied: cffi>=1.14 in c:\\users\\adolia\\anaconda3\\lib\\site-packages (from trio~=0.17->selenium==4.9.0) (1.15.1)\n",
      "Requirement already satisfied: exceptiongroup in c:\\users\\adolia\\anaconda3\\lib\\site-packages (from trio~=0.17->selenium==4.9.0) (1.2.0)\n",
      "Requirement already satisfied: wsproto>=0.14 in c:\\users\\adolia\\anaconda3\\lib\\site-packages (from trio-websocket~=0.9->selenium==4.9.0) (1.2.0)\n",
      "Requirement already satisfied: PySocks!=1.5.7,<2.0,>=1.5.6 in c:\\users\\adolia\\anaconda3\\lib\\site-packages (from urllib3[socks]~=1.26->selenium==4.9.0) (1.7.1)\n",
      "Requirement already satisfied: pycparser in c:\\users\\adolia\\anaconda3\\lib\\site-packages (from cffi>=1.14->trio~=0.17->selenium==4.9.0) (2.21)\n",
      "Requirement already satisfied: h11<1,>=0.9.0 in c:\\users\\adolia\\anaconda3\\lib\\site-packages (from wsproto>=0.14->trio-websocket~=0.9->selenium==4.9.0) (0.14.0)\n",
      "Requirement already satisfied: webdriver_manager==4.0.1 in c:\\users\\adolia\\anaconda3\\lib\\site-packages (4.0.1)\n",
      "Requirement already satisfied: requests in c:\\users\\adolia\\anaconda3\\lib\\site-packages (from webdriver_manager==4.0.1) (2.28.1)\n",
      "Requirement already satisfied: python-dotenv in c:\\users\\adolia\\anaconda3\\lib\\site-packages (from webdriver_manager==4.0.1) (1.0.0)\n",
      "Requirement already satisfied: packaging in c:\\users\\adolia\\anaconda3\\lib\\site-packages (from webdriver_manager==4.0.1) (21.3)\n",
      "Requirement already satisfied: pyparsing!=3.0.5,>=2.0.2 in c:\\users\\adolia\\anaconda3\\lib\\site-packages (from packaging->webdriver_manager==4.0.1) (3.0.9)\n",
      "Requirement already satisfied: charset-normalizer<3,>=2 in c:\\users\\adolia\\anaconda3\\lib\\site-packages (from requests->webdriver_manager==4.0.1) (2.0.4)\n",
      "Requirement already satisfied: idna<4,>=2.5 in c:\\users\\adolia\\anaconda3\\lib\\site-packages (from requests->webdriver_manager==4.0.1) (3.3)\n",
      "Requirement already satisfied: urllib3<1.27,>=1.21.1 in c:\\users\\adolia\\anaconda3\\lib\\site-packages (from requests->webdriver_manager==4.0.1) (1.26.11)\n",
      "Requirement already satisfied: certifi>=2017.4.17 in c:\\users\\adolia\\anaconda3\\lib\\site-packages (from requests->webdriver_manager==4.0.1) (2022.9.14)\n"
     ]
    }
   ],
   "source": [
    "!pip install selenium==4.9.0\n",
    "!pip install webdriver_manager==4.0.1"
   ]
  },
  {
   "cell_type": "code",
   "execution_count": 18,
   "id": "85e0b2cf",
   "metadata": {},
   "outputs": [],
   "source": [
    "from selenium import webdriver\n",
    "from webdriver_manager.chrome import ChromeDriverManager\n",
    "from selenium.webdriver.common.by import By\n",
    "from selenium.webdriver.common.keys import Keys"
   ]
  },
  {
   "cell_type": "markdown",
   "id": "aeca0fb5",
   "metadata": {},
   "source": [
    "# In this cell you need to say to the microphone something like:\n",
    "Could you please find me **Position Name** position in **city**? <br> <br>\n",
    "For example, **Position Name** can be \"Data Scientist\" and **city** is \"London\":<br>\n",
    "Could you please find me Data Scientist position in London?"
   ]
  },
  {
   "cell_type": "code",
   "execution_count": 9,
   "id": "62fbc502",
   "metadata": {},
   "outputs": [
    {
     "name": "stdout",
     "output_type": "stream",
     "text": [
      "Ask your question please in the following format:\n",
      "Could you please find me POSITION_NAME position in LOCATION\n",
      "for example, the following:\n",
      "Say something like \"Could you please find me Data Scientist position in London?\"\n",
      "Listening...\n",
      "\n",
      "You asked the following:  could you please find me data scientist position in London\n"
     ]
    }
   ],
   "source": [
    "def speak(text):\n",
    "    tts = gTTS(text=text, lang=\"en\")\n",
    "    date_string = datetime.now().strftime(\"%d%m%Y%H%M%S\")\n",
    "    filename = \"voice\"+date_string+\".mp3\"\n",
    "    tts.save(filename)\n",
    "    playsound.playsound(filename)\n",
    "\n",
    "\n",
    "def get_audio():\n",
    "    r = sr.Recognizer()\n",
    "    with sr.Microphone() as source:\n",
    "        audio = r.listen(source)\n",
    "        said = \"\"\n",
    "\n",
    "        try:\n",
    "            said = r.recognize_google(audio)\n",
    "            print(\"\\nYou asked the following: \", said)\n",
    "        except Exception as e:\n",
    "            print(\"Exception: \" + str(e))\n",
    "\n",
    "    return said\n",
    "\n",
    "\n",
    "print(\"Ask your question please in the following format:\")\n",
    "print(\"Could you please find me POSITION_NAME position in LOCATION\")\n",
    "print(\"for example, the following:\")\n",
    "print('Say something like \"Could you please find me Data Scientist position in London?\"')\n",
    "print('Listening...')\n",
    "text = get_audio()"
   ]
  },
  {
   "cell_type": "markdown",
   "id": "ddf277bd",
   "metadata": {},
   "source": [
    "# Very basic extraction of position and city from the text."
   ]
  },
  {
   "cell_type": "code",
   "execution_count": 10,
   "id": "58471b93",
   "metadata": {},
   "outputs": [
    {
     "name": "stdout",
     "output_type": "stream",
     "text": [
      "position_str:  data scientist\n",
      "location_str:  London\n"
     ]
    }
   ],
   "source": [
    "position_str = \"\"\n",
    "location_str = \"\"\n",
    "if (\"find\" in text) and (\"position\" in text):\n",
    "    position_st = text.find(\"find me\")\n",
    "     \n",
    "    if position_st >= 0:\n",
    "       position_st += len(\"find me\")#\n",
    "    else:\n",
    "       position_st = text.find(\"find\")    \n",
    "       if position_st >= 0:\n",
    "          position_st += len(\"find\")\n",
    "\n",
    "    position_en = text.find(\"position\")\n",
    "    if position_st >= 0:\n",
    "       position_str = text[position_st: position_en].strip()\n",
    "    \n",
    "if \" in \" in text:\n",
    "   location_st = text.find(\" in \")\n",
    "   if location_st >=0:\n",
    "      location_str = text[(location_st+len(\" in \")):].strip()\n",
    "\n",
    "print(\"position_str: \", position_str)\n",
    "print(\"location_str: \", location_str)"
   ]
  },
  {
   "cell_type": "markdown",
   "id": "8619aeb9",
   "metadata": {},
   "source": [
    "# The following cell Login to Linkedin using provided email and password. And after tryng to find the given position in the required city. <br>\n",
    "\n",
    "This approach can be used for LinkedIn parsing"
   ]
  },
  {
   "cell_type": "code",
   "execution_count": 19,
   "id": "07892add",
   "metadata": {},
   "outputs": [
    {
     "name": "stderr",
     "output_type": "stream",
     "text": [
      "C:\\Users\\adolia\\AppData\\Local\\Temp\\ipykernel_27996\\3034370225.py:12: DeprecationWarning: executable_path has been deprecated, please pass in a Service object\n",
      "  driver = webdriver.Chrome(ChromeDriverManager().install())\n"
     ]
    }
   ],
   "source": [
    "def search_position_in_location(driver, position_str, location_str):\n",
    "    driver.get(\"https://www.linkedin.com/jobs/search/\")\n",
    "    search = driver.find_element(By.CSS_SELECTOR, \"[aria-label='Search by title, skill, or company']\")\n",
    "    search.clear()\n",
    "    search.send_keys(position_str)\n",
    "    location = driver.find_element(By.CSS_SELECTOR, \"[aria-label='City, state, or zip code']\")\n",
    "    location.clear()\n",
    "    location.send_keys(location_str)\n",
    "    button = driver.find_element(By.CLASS_NAME, \"jobs-search-box__submit-button.artdeco-button.artdeco-button--2.artdeco-button--secondary\");\n",
    "    button.click()\n",
    "\n",
    "driver = webdriver.Chrome(ChromeDriverManager().install())\n",
    "# Navigate to the LinkedIn login page\n",
    "driver.get('https://www.linkedin.com/login?fromSignIn=true&trk=guest_homepage-basic_nav-header-signin')\n",
    "#email_field = driver.find_element_by_css_selector('#username')\n",
    "email_field = driver.find_element(By.ID ,\"username\")\n",
    "email_field.send_keys('linkedin.app.test.alex.dolia@gmail.com')\n",
    "password_field = driver.find_element(By.ID ,'password')\n",
    "password_field.send_keys('linkedintest')\n",
    "submit_button = driver.find_element(By.CSS_SELECTOR, \"[aria-label='Sign in']\")\n",
    "submit_button.click()\n",
    "\n",
    "search_position_in_location(driver, position_str, location_str)"
   ]
  },
  {
   "cell_type": "code",
   "execution_count": null,
   "id": "21a3cd0a",
   "metadata": {},
   "outputs": [],
   "source": []
  }
 ],
 "metadata": {
  "kernelspec": {
   "display_name": "Python 3 (ipykernel)",
   "language": "python",
   "name": "python3"
  },
  "language_info": {
   "codemirror_mode": {
    "name": "ipython",
    "version": 3
   },
   "file_extension": ".py",
   "mimetype": "text/x-python",
   "name": "python",
   "nbconvert_exporter": "python",
   "pygments_lexer": "ipython3",
   "version": "3.9.13"
  }
 },
 "nbformat": 4,
 "nbformat_minor": 5
}
